{
 "cells": [
  {
   "cell_type": "markdown",
   "id": "f39e4d82",
   "metadata": {},
   "source": [
    "# Modèle probabiliste à partir de la cartographie des indicateurs cliniques"
   ]
  },
  {
   "cell_type": "code",
   "execution_count": 1,
   "id": "d64e2f32",
   "metadata": {
    "scrolled": true
   },
   "outputs": [
    {
     "name": "stdout",
     "output_type": "stream",
     "text": [
      "Collecting daft\n",
      "  Downloading daft-0.1.2-py3-none-any.whl (11 kB)\n",
      "Requirement already satisfied: matplotlib in ./opt/anaconda3/lib/python3.8/site-packages (from daft) (3.3.4)\n",
      "Requirement already satisfied: setuptools in ./opt/anaconda3/lib/python3.8/site-packages (from daft) (52.0.0.post20210125)\n",
      "Requirement already satisfied: numpy in ./opt/anaconda3/lib/python3.8/site-packages (from daft) (1.18.5)\n",
      "Requirement already satisfied: pillow>=6.2.0 in ./opt/anaconda3/lib/python3.8/site-packages (from matplotlib->daft) (8.2.0)\n",
      "Requirement already satisfied: pyparsing!=2.0.4,!=2.1.2,!=2.1.6,>=2.0.3 in ./opt/anaconda3/lib/python3.8/site-packages (from matplotlib->daft) (2.4.7)\n",
      "Requirement already satisfied: kiwisolver>=1.0.1 in ./opt/anaconda3/lib/python3.8/site-packages (from matplotlib->daft) (1.3.1)\n",
      "Requirement already satisfied: python-dateutil>=2.1 in ./opt/anaconda3/lib/python3.8/site-packages (from matplotlib->daft) (2.8.1)\n",
      "Requirement already satisfied: cycler>=0.10 in ./opt/anaconda3/lib/python3.8/site-packages (from matplotlib->daft) (0.10.0)\n",
      "Requirement already satisfied: six in ./opt/anaconda3/lib/python3.8/site-packages (from cycler>=0.10->matplotlib->daft) (1.15.0)\n",
      "Installing collected packages: daft\n",
      "Successfully installed daft-0.1.2\n"
     ]
    }
   ],
   "source": [
    "!python -m pip install daft"
   ]
  },
  {
   "cell_type": "code",
   "execution_count": 133,
   "id": "fee1739d",
   "metadata": {
    "scrolled": true
   },
   "outputs": [
    {
     "name": "stdout",
     "output_type": "stream",
     "text": [
      "Collecting pgmpy\n",
      "  Downloading pgmpy-0.1.17-py3-none-any.whl (1.9 MB)\n",
      "\u001b[K     |████████████████████████████████| 1.9 MB 3.1 MB/s eta 0:00:01\n",
      "\u001b[?25hRequirement already satisfied: joblib in ./opt/anaconda3/lib/python3.8/site-packages (from pgmpy) (1.0.1)\n",
      "Collecting torch\n",
      "  Downloading torch-1.10.2-cp38-none-macosx_10_9_x86_64.whl (147.2 MB)\n",
      "\u001b[K     |████████████████████████████████| 147.2 MB 1.5 MB/s eta 0:00:011\n",
      "\u001b[?25hRequirement already satisfied: pandas in ./opt/anaconda3/lib/python3.8/site-packages (from pgmpy) (1.3.5)\n",
      "Requirement already satisfied: pyparsing in ./opt/anaconda3/lib/python3.8/site-packages (from pgmpy) (2.4.7)\n",
      "Requirement already satisfied: networkx in ./opt/anaconda3/lib/python3.8/site-packages (from pgmpy) (2.5)\n",
      "Requirement already satisfied: numpy in ./opt/anaconda3/lib/python3.8/site-packages (from pgmpy) (1.18.5)\n",
      "Requirement already satisfied: statsmodels in ./opt/anaconda3/lib/python3.8/site-packages (from pgmpy) (0.12.2)\n",
      "Requirement already satisfied: scipy in ./opt/anaconda3/lib/python3.8/site-packages (from pgmpy) (1.6.2)\n",
      "Requirement already satisfied: tqdm in ./opt/anaconda3/lib/python3.8/site-packages (from pgmpy) (4.59.0)\n",
      "Requirement already satisfied: scikit-learn in ./opt/anaconda3/lib/python3.8/site-packages (from pgmpy) (0.24.1)\n",
      "Requirement already satisfied: decorator>=4.3.0 in ./opt/anaconda3/lib/python3.8/site-packages (from networkx->pgmpy) (5.0.6)\n",
      "Requirement already satisfied: pytz>=2017.3 in ./opt/anaconda3/lib/python3.8/site-packages (from pandas->pgmpy) (2021.1)\n",
      "Requirement already satisfied: python-dateutil>=2.7.3 in ./opt/anaconda3/lib/python3.8/site-packages (from pandas->pgmpy) (2.8.1)\n",
      "Requirement already satisfied: six>=1.5 in ./opt/anaconda3/lib/python3.8/site-packages (from python-dateutil>=2.7.3->pandas->pgmpy) (1.15.0)\n",
      "Requirement already satisfied: threadpoolctl>=2.0.0 in ./opt/anaconda3/lib/python3.8/site-packages (from scikit-learn->pgmpy) (2.1.0)\n",
      "Requirement already satisfied: patsy>=0.5 in ./opt/anaconda3/lib/python3.8/site-packages (from statsmodels->pgmpy) (0.5.1)\n",
      "Requirement already satisfied: typing-extensions in ./opt/anaconda3/lib/python3.8/site-packages (from torch->pgmpy) (3.7.4.3)\n",
      "Installing collected packages: torch, pgmpy\n",
      "Successfully installed pgmpy-0.1.17 torch-1.10.2\n"
     ]
    }
   ],
   "source": [
    "!pip install pgmpy"
   ]
  },
  {
   "cell_type": "code",
   "execution_count": 159,
   "id": "44243935",
   "metadata": {},
   "outputs": [],
   "source": [
    "import daft\n",
    "import matplotlib as plt\n",
    "from pgmpy.factors.discrete import TabularCPD\n",
    "from pgmpy.models import BayesianModel\n",
    "from pgmpy.inference import VariableElimination"
   ]
  },
  {
   "cell_type": "markdown",
   "id": "ac0ca990",
   "metadata": {},
   "source": [
    "### Modèle Bayésien : exemple de la dénutrition"
   ]
  },
  {
   "cell_type": "markdown",
   "id": "838e8caf",
   "metadata": {},
   "source": [
    "Paramétrage du graph orienté"
   ]
  },
  {
   "cell_type": "code",
   "execution_count": 127,
   "id": "4558871c",
   "metadata": {},
   "outputs": [],
   "source": [
    "pgm = daft.PGM(grid_unit=4.0, node_unit=1.4)\n",
    "asp = 2\n",
    "\n",
    "f_color = {\"ec\": \"#46a546\"}\n",
    "s_color = {\"ec\": \"#f89406\"}\n",
    "c_color = {\"ec\": \"#fb2e02\"}"
   ]
  },
  {
   "cell_type": "markdown",
   "id": "4ab9b409",
   "metadata": {},
   "source": [
    "### Création des noeuds par categories : sondes, contextes, facteurs et conseils"
   ]
  },
  {
   "cell_type": "code",
   "execution_count": 128,
   "id": "d54d72eb",
   "metadata": {},
   "outputs": [
    {
     "data": {
      "text/plain": [
       "'conseil_2'"
      ]
     },
     "execution_count": 128,
     "metadata": {},
     "output_type": "execute_result"
    }
   ],
   "source": [
    "pgm.add_node(\"lieu\", r\"lieu de résidence\", 2, -0.5, fixed=True)\n",
    "\n",
    "\n",
    "pgm.add_node(\"poids\", r\"perte de poids\", 3, 6, aspect=asp, plot_params=s_color) #sonde\n",
    "pgm.add_node(\"CM\", r\"CM\", 2, 4, aspect=asp, plot_params=s_color) #sonde\n",
    "pgm.add_node(\"IMC\", r\"IMC\", 4, 5, aspect=asp, plot_params=s_color) #sonde\n",
    "pgm.add_node(\"event_1\", r\"création event course\", 6, 4, aspect=asp, plot_params=s_color) #sonde\n",
    "pgm.add_node(\"event_2\", r\"création event repas\", 9, 5, aspect=asp, plot_params=s_color) #sonde\n",
    "pgm.add_node(\"memos_1\", r\"consultation memo lié nourriture\", 10, 4, aspect=asp, plot_params=s_color) #sonde\n",
    "pgm.add_node(\"memos_2\", r\"création memos liste de course\", 8, 4, aspect=asp, plot_params=s_color) #sonde\n",
    "pgm.add_node(\"motricite\", r\"motricité\", -1, 4, aspect=asp, plot_params=s_color) #sonde\n",
    "pgm.add_node(\"gout\", r\"perte du goût\", 0, 4, aspect=asp, plot_params=s_color) #sonde\n",
    "pgm.add_node(\"pb_digestif\", r\"problèmes digestifs\", 1, 6, aspect=asp, plot_params=s_color) #sonde\n",
    "pgm.add_node(\"mastic\", r\"difficultés mastication\", 0.5, 5, aspect=asp, plot_params=s_color) #sonde\n",
    "pgm.add_node(\"deglut\", r\"difficultés deglutition\", 1.5, 5, aspect=asp, plot_params=s_color) #sonde\n",
    "\n",
    "\n",
    "\n",
    "\n",
    "pgm.add_node(\"perte\", r\"perte de poids\", 3, 3, aspect=asp, plot_params=f_color) #facteur\n",
    "pgm.add_node(\"pb_physique\", r\"problème physique\", 1, 3, aspect=asp, plot_params=f_color) #facteur\n",
    "pgm.add_node(\"pb_neuro\", r\"problème neuropsychologique\", 5, 3, aspect=asp, plot_params=f_color) #facteur\n",
    "pgm.add_node(\"achat\", r\"achat alimentaire\", 7, 3, aspect=asp, plot_params=f_color) #facteur\n",
    "pgm.add_node(\"habitude\", r\"changement d'habitudes alimentaires\", 9, 3, aspect=asp, plot_params=f_color) #facteur\n",
    "\n",
    "\n",
    "\n",
    "pgm.add_node(\"conseil_1\", r\"et si vous déjeuniez avec X ?\", 3, 1, aspect=asp, plot_params=c_color) #conseil\n",
    "pgm.add_node(\"conseil_2\", r\"et si vous alliez faire des courses ?\", 6, 1, aspect=asp, plot_params=c_color) #conseil"
   ]
  },
  {
   "cell_type": "markdown",
   "id": "02c6fe87",
   "metadata": {},
   "source": [
    "### Création des dépendances entre les noeuds\n"
   ]
  },
  {
   "cell_type": "code",
   "execution_count": 129,
   "id": "b32e2904",
   "metadata": {},
   "outputs": [
    {
     "data": {
      "text/plain": [
       "<daft.Edge at 0x7feb254529d0>"
      ]
     },
     "execution_count": 129,
     "metadata": {},
     "output_type": "execute_result"
    }
   ],
   "source": [
    "pgm.add_edge(\"achat\", \"memos_2\")\n",
    "pgm.add_edge(\"achat\", \"event_1\")\n",
    "pgm.add_edge(\"perte\", \"IMC\")\n",
    "pgm.add_edge(\"perte\", \"CM\")\n",
    "pgm.add_edge(\"perte\", \"poids\")\n",
    "pgm.add_edge(\"habitude\", \"event_2\")\n",
    "pgm.add_edge(\"perte\", \"conseil_1\")\n",
    "pgm.add_edge(\"pb_physique\", \"conseil_1\")\n",
    "pgm.add_edge(\"pb_neuro\", \"conseil_1\")\n",
    "pgm.add_edge(\"habitude\", \"conseil_1\")\n",
    "pgm.add_edge(\"achat\", \"conseil_1\")\n",
    "pgm.add_edge(\"achat\", \"conseil_2\")\n",
    "pgm.add_edge(\"habitude\", \"conseil_2\")\n",
    "pgm.add_edge(\"habitude\", \"memos_1\")\n",
    "pgm.add_edge(\"lieu\", \"conseil_1\")\n",
    "pgm.add_edge(\"pb_physique\", \"motricite\")\n",
    "pgm.add_edge(\"pb_physique\", \"gout\")\n",
    "pgm.add_edge(\"pb_physique\", \"pb_digestif\")\n",
    "pgm.add_edge(\"pb_physique\", \"mastic\")\n",
    "pgm.add_edge(\"pb_physique\", \"deglut\")"
   ]
  },
  {
   "cell_type": "code",
   "execution_count": 130,
   "id": "52765e5d",
   "metadata": {},
   "outputs": [
    {
     "data": {
      "text/plain": [
       "<matplotlib.axes._axes.Axes at 0x7feb254e6c40>"
      ]
     },
     "execution_count": 130,
     "metadata": {},
     "output_type": "execute_result"
    },
    {
     "data": {
      "image/png": "[encoded data removed]",
      "text/plain": [
       "<Figure size 1349.29x782.835 with 1 Axes>"
      ]
     },
     "metadata": {},
     "output_type": "display_data"
    }
   ],
   "source": [
    "pgm.render()"
   ]
  },
  {
   "cell_type": "markdown",
   "id": "c1717f0b",
   "metadata": {},
   "source": [
    "En orange on a les sondes, qui sont des caractères observables permettant de mieux appréhender et définir les facteurs.\n",
    "\n",
    "En vert, on a les facteurs.\n",
    "\n",
    "En rouge, ce sont deux conseils binaires : \"pertinenent\" ou \"non pertinent\"\n",
    "\n",
    "Le point noir correspond à un contexte : représente le contexte de la situation et influence uniquement les conseil."
   ]
  },
  {
   "cell_type": "markdown",
   "id": "fbf23a58",
   "metadata": {},
   "source": [
    "### Modèle Bayésien : exemple du sommeil"
   ]
  },
  {
   "cell_type": "markdown",
   "id": "48573341",
   "metadata": {},
   "source": [
    "Les facteurs sont les suivants :\n",
    "- RN : Réveil Nocturne\n",
    "- S : Qualité du sommeil\n",
    "\n",
    "Les sondes sont les suivantes :\n",
    "- OA : Ouverture de l'application\n",
    "- AP : Activité physique\n",
    "\n",
    "Le conseil :\n",
    "- Conseil : \"Pensez à demander à X comment est son sommeil !\""
   ]
  },
  {
   "cell_type": "code",
   "execution_count": 144,
   "id": "f69babcb",
   "metadata": {
    "scrolled": true
   },
   "outputs": [],
   "source": [
    "model = BayesianModel([(\"RN\",\"Conseil\"),(\"S\", \"Conseil\"),(\"OA\",\"RN\"),(\"AP\",\"RN\")])"
   ]
  },
  {
   "cell_type": "markdown",
   "id": "aadac510",
   "metadata": {},
   "source": [
    "On va ensuite définir les CPD : les distributions des probabilités conditionnelles pour chaque noeud."
   ]
  },
  {
   "cell_type": "code",
   "execution_count": 153,
   "id": "2cabba63",
   "metadata": {},
   "outputs": [
    {
     "data": {
      "text/plain": [
       "True"
      ]
     },
     "execution_count": 153,
     "metadata": {},
     "output_type": "execute_result"
    }
   ],
   "source": [
    "oa_cpd = TabularCPD(variable = 'OA', variable_card=2, values=[[0.9],[0.1]], state_names={'OA': ['Non', 'Oui']}) #valeurs choisies arbitrairement\n",
    "ap_cpd = TabularCPD(variable = 'AP', variable_card=2, values=[[0.7],[0.3]], state_names={'AP': ['Non', 'Oui']})\n",
    "\n",
    "s_cpd = TabularCPD(variable = 'S', variable_card=3, values=[[0.5],[0.3],[0.2]], state_names={'S': ['Bonne', 'Moyenne', 'Mauvaise']})\n",
    "\n",
    "rn_cpd = TabularCPD(variable='RN', variable_card=3,\n",
    "                   values=[[0.3, 0.05, 0.9,  0.5],\n",
    "                           [0.4, 0.25, 0.08, 0.3],\n",
    "                           [0.3, 0.7,  0.02, 0.2]],\n",
    "                  evidence=['OA', 'AP'],\n",
    "                  evidence_card=[2, 2], \n",
    "                    state_names={'RN': ['Faible', 'Moyen', 'Fort'],\n",
    "                                   'OA': ['Non', 'Oui'],\n",
    "                                   'AP': ['Non', 'Oui']})\n",
    "\n",
    "conseil_cpd = TabularCPD(variable='Conseil', variable_card=2,\n",
    "                         values=[[0.05, 0.3, 0.8,  0.6, 0.5, 0.6, 0.7, 0.8, 0.9],\n",
    "                           [0.95, 0.7, 0.2, 0.4, 0.5, 0.4, 0.3, 0.2, 0.1]],\n",
    "                  evidence=['S', 'RN'],\n",
    "                  evidence_card=[3, 3], state_names={'Conseil':['Pertinent', 'Non pertinent'],\n",
    "                      'RN': ['Faible', 'Moyen', 'Fort'],\n",
    "                                   'S': ['Bonne', 'Moyenne', 'Mauvaise']})\n",
    "\n",
    "model.add_cpds(oa_cpd, ap_cpd, s_cpd, rn_cpd, conseil_cpd)\n",
    "\n",
    "model.check_model()"
   ]
  },
  {
   "cell_type": "code",
   "execution_count": 154,
   "id": "bd1d5e2a",
   "metadata": {},
   "outputs": [
    {
     "data": {
      "text/plain": [
       "[<TabularCPD representing P(OA:2) at 0x7feb26621220>,\n",
       " <TabularCPD representing P(AP:2) at 0x7feb26621070>,\n",
       " <TabularCPD representing P(S:3) at 0x7feb26621550>,\n",
       " <TabularCPD representing P(RN:3 | OA:2, AP:2) at 0x7feb26621dc0>,\n",
       " <TabularCPD representing P(Conseil:2 | S:3, RN:3) at 0x7feb26621310>]"
      ]
     },
     "execution_count": 154,
     "metadata": {},
     "output_type": "execute_result"
    }
   ],
   "source": [
    "model.get_cpds()"
   ]
  },
  {
   "cell_type": "markdown",
   "id": "c4e38b24",
   "metadata": {},
   "source": [
    "#####  Tableau des probabilités conditionnelles au noeud des risques de réveils nocturnes"
   ]
  },
  {
   "cell_type": "code",
   "execution_count": 155,
   "id": "a26d9641",
   "metadata": {},
   "outputs": [
    {
     "name": "stdout",
     "output_type": "stream",
     "text": [
      "+------------+---------+---------+---------+---------+\n",
      "| OA         | OA(Non) | OA(Non) | OA(Oui) | OA(Oui) |\n",
      "+------------+---------+---------+---------+---------+\n",
      "| AP         | AP(Non) | AP(Oui) | AP(Non) | AP(Oui) |\n",
      "+------------+---------+---------+---------+---------+\n",
      "| RN(Faible) | 0.3     | 0.05    | 0.9     | 0.5     |\n",
      "+------------+---------+---------+---------+---------+\n",
      "| RN(Moyen)  | 0.4     | 0.25    | 0.08    | 0.3     |\n",
      "+------------+---------+---------+---------+---------+\n",
      "| RN(Fort)   | 0.3     | 0.7     | 0.02    | 0.2     |\n",
      "+------------+---------+---------+---------+---------+\n"
     ]
    }
   ],
   "source": [
    "print(rn_cpd)"
   ]
  },
  {
   "cell_type": "markdown",
   "id": "d3ea9b1e",
   "metadata": {},
   "source": [
    "#####  Tableau des probabilités conditionnelles au noeud du conseil"
   ]
  },
  {
   "cell_type": "code",
   "execution_count": 156,
   "id": "e9883f27",
   "metadata": {},
   "outputs": [
    {
     "name": "stdout",
     "output_type": "stream",
     "text": [
      "+------------------------+-----+-------------+-------------+\n",
      "| S                      | ... | S(Mauvaise) | S(Mauvaise) |\n",
      "+------------------------+-----+-------------+-------------+\n",
      "| RN                     | ... | RN(Moyen)   | RN(Fort)    |\n",
      "+------------------------+-----+-------------+-------------+\n",
      "| Conseil(Pertinent)     | ... | 0.8         | 0.9         |\n",
      "+------------------------+-----+-------------+-------------+\n",
      "| Conseil(Non pertinent) | ... | 0.2         | 0.1         |\n",
      "+------------------------+-----+-------------+-------------+\n"
     ]
    }
   ],
   "source": [
    "print(conseil_cpd)"
   ]
  },
  {
   "cell_type": "markdown",
   "id": "77901b76",
   "metadata": {},
   "source": [
    "On peut alors chercher les indépendances locales des noeuds définies plus haut."
   ]
  },
  {
   "cell_type": "code",
   "execution_count": 158,
   "id": "c25de60e",
   "metadata": {},
   "outputs": [
    {
     "data": {
      "text/plain": [
       "(Conseil ⟂ AP, OA | RN, S)"
      ]
     },
     "execution_count": 158,
     "metadata": {},
     "output_type": "execute_result"
    }
   ],
   "source": [
    "model.local_independencies('Conseil')"
   ]
  },
  {
   "cell_type": "markdown",
   "id": "5065b34b",
   "metadata": {},
   "source": [
    "Utilisation de la méthode d'inférence \"Variable Elimination\" des modèles graphiques"
   ]
  },
  {
   "cell_type": "code",
   "execution_count": 160,
   "id": "20aa6097",
   "metadata": {},
   "outputs": [
    {
     "data": {
      "application/vnd.jupyter.widget-view+json": {
       "model_id": "e4b135b29be34544b35323a3c171da1f",
       "version_major": 2,
       "version_minor": 0
      },
      "text/plain": [
       "  0%|          | 0/4 [00:00<?, ?it/s]"
      ]
     },
     "metadata": {},
     "output_type": "display_data"
    },
    {
     "data": {
      "application/vnd.jupyter.widget-view+json": {
       "model_id": "a70f50a22a9b42c998d121cd1c67d212",
       "version_major": 2,
       "version_minor": 0
      },
      "text/plain": [
       "  0%|          | 0/4 [00:00<?, ?it/s]"
      ]
     },
     "metadata": {},
     "output_type": "display_data"
    },
    {
     "name": "stdout",
     "output_type": "stream",
     "text": [
      "+------------------------+----------------+\n",
      "| Conseil                |   phi(Conseil) |\n",
      "+========================+================+\n",
      "| Conseil(Pertinent)     |         0.5434 |\n",
      "+------------------------+----------------+\n",
      "| Conseil(Non pertinent) |         0.4566 |\n",
      "+------------------------+----------------+\n"
     ]
    }
   ],
   "source": [
    "infer = VariableElimination(model)\n",
    "g_dist = infer.query(['Conseil'])\n",
    "print(g_dist)"
   ]
  },
  {
   "cell_type": "code",
   "execution_count": 162,
   "id": "521c87b3",
   "metadata": {},
   "outputs": [
    {
     "data": {
      "application/vnd.jupyter.widget-view+json": {
       "model_id": "bdc121d08dd74caaa696e7697f1711e2",
       "version_major": 2,
       "version_minor": 0
      },
      "text/plain": [
       "0it [00:00, ?it/s]"
      ]
     },
     "metadata": {},
     "output_type": "display_data"
    },
    {
     "data": {
      "application/vnd.jupyter.widget-view+json": {
       "model_id": "20c88d0eabef45d09d831737d570c5a2",
       "version_major": 2,
       "version_minor": 0
      },
      "text/plain": [
       "0it [00:00, ?it/s]"
      ]
     },
     "metadata": {},
     "output_type": "display_data"
    },
    {
     "name": "stdout",
     "output_type": "stream",
     "text": [
      "+------------------------+----------------+\n",
      "| Conseil                |   phi(Conseil) |\n",
      "+========================+================+\n",
      "| Conseil(Pertinent)     |         0.0500 |\n",
      "+------------------------+----------------+\n",
      "| Conseil(Non pertinent) |         0.9500 |\n",
      "+------------------------+----------------+\n"
     ]
    }
   ],
   "source": [
    "print(infer.query(['Conseil'], evidence={'RN': 'Faible', 'S': 'Bonne'}))"
   ]
  },
  {
   "cell_type": "markdown",
   "id": "34f3d990",
   "metadata": {},
   "source": [
    "Si le risque est de reveil nocturne est faible et que le sommeil est bon, il n'est pas pertinent (à 95 %) de conseiller à l'aidant d'envoyer à l'aidé des recommandations sur le sommeil."
   ]
  },
  {
   "cell_type": "code",
   "execution_count": null,
   "id": "e84207cc",
   "metadata": {},
   "outputs": [],
   "source": []
  }
 ],
 "metadata": {
  "kernelspec": {
   "display_name": "Python 3",
   "language": "python",
   "name": "python3"
  },
  "language_info": {
   "codemirror_mode": {
    "name": "ipython",
    "version": 3
   },
   "file_extension": ".py",
   "mimetype": "text/x-python",
   "name": "python",
   "nbconvert_exporter": "python",
   "pygments_lexer": "ipython3",
   "version": "3.8.8"
  }
 },
 "nbformat": 4,
 "nbformat_minor": 5
}
