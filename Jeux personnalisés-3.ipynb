{
 "cells": [
  {
   "cell_type": "markdown",
   "id": "e8ac1c27",
   "metadata": {},
   "source": [
    "# Jeux : Anagrammes\n",
    "\n",
    "Le but du jeu est de reformer le mot M à partir des lettres du mot M'. Ici, je n'ai codé que le mode difficile mais le mode facile est facilement faisable aussi."
   ]
  },
  {
   "cell_type": "markdown",
   "id": "82894bef",
   "metadata": {},
   "source": [
    "Ici j'ai décidé de partir avec l'exemple du temps Columbo utilisé dans les specs des Jeux Mementop"
   ]
  },
  {
   "cell_type": "code",
   "execution_count": 1,
   "id": "f7ad1347",
   "metadata": {},
   "outputs": [],
   "source": [
    "import random\n",
    "\n",
    "dictionnaire = [\"policier\", \"lieutenant\",\"enquêteur\",\"interrogatoire\",\"assassinat\",\"coupable\",\"imperméable\",\"malin\",\"rapport\",\"intelligent\",\"trahison\",\"crime\"]\n",
    "\n",
    "def word_prompt(data):\n",
    "    word = random.choice(data)\n",
    "    return word"
   ]
  },
  {
   "cell_type": "markdown",
   "id": "c06428f7",
   "metadata": {},
   "source": [
    "Une fois qu'on a une fonction qui selectionne aleatoirement un mot parmis notre dictionnaire, notre ensemble de mot lié à un même thème, on créé une fonction qui mélange les lettre d'un mot "
   ]
  },
  {
   "cell_type": "code",
   "execution_count": 2,
   "id": "1dbe332a",
   "metadata": {},
   "outputs": [],
   "source": [
    "def shuffle_word(word):\n",
    "    array = list(word)\n",
    "    shuffled = word\n",
    "    while True:\n",
    "        random.shuffle(array)\n",
    "        shuffled = ''.join(array)\n",
    "        if shuffled != word:\n",
    "            return shuffled\n",
    "        "
   ]
  },
  {
   "cell_type": "markdown",
   "id": "3c4d53e7",
   "metadata": {},
   "source": [
    "Il ne reste plus qu'à constituer un mini interface de jeu s'appuyant sur les deux fonctions qu'on vient de créer au dessus"
   ]
  },
  {
   "cell_type": "code",
   "execution_count": 3,
   "id": "4ccc6be2",
   "metadata": {},
   "outputs": [
    {
     "name": "stdout",
     "output_type": "stream",
     "text": [
      "Bienvenue dans le jeux anagramme!\n",
      "Vous avez choisi le thème Série Télévisée Columbo\n",
      "\n",
      "Le mot à résoudre est le suivant : iplbméaemre\n",
      "\n",
      "Nombre d'essais restants : 5\n",
      "Votre tentative : elephant\n",
      "\n",
      "Nombre d'essais restants : 4\n",
      "Votre tentative : imperméable\n",
      "Correcte !\n",
      "\n",
      "Voulez vous continuez? [o/n]: n\n",
      "--------------------------------------------------\n",
      "\n",
      "Merci pour votre participation!\n"
     ]
    }
   ],
   "source": [
    "print(\"Bienvenue dans le jeux anagramme!\")\n",
    "print(\"Vous avez choisi le thème Série Télévisée Columbo\")\n",
    "while(True):\n",
    "    word = word_prompt(dictionnaire)\n",
    "    question = shuffle_word(word)\n",
    "    \n",
    "    question = question.lower()\n",
    "    word = word.lower()\n",
    "    \n",
    "    print(\"\\nLe mot à résoudre est le suivant :\", question)\n",
    " \n",
    "    for i in range(5, 0, -1):\n",
    "        print(\"\\nNombre d'essais restants :\", i)\n",
    "        guess = input('Votre tentative : ').lower()\n",
    "        if guess == word:\n",
    "            print(\"Correcte !\")\n",
    "            break\n",
    "        if i == 1:\n",
    "            print(\"\\nLa bonne réponse était :\", word)\n",
    "    \n",
    "    choice = input(\"\\nVoulez vous continuez? [o/n]: \")\n",
    "    print('-'*50)\n",
    "    if choice == 'n':\n",
    "        print(\"\\nMerci pour votre participation!\")\n",
    "        break"
   ]
  },
  {
   "cell_type": "markdown",
   "id": "170d83f5",
   "metadata": {},
   "source": [
    "# Jeux : Phrases célèbres\n",
    "\n",
    "Le but du jeu est de reformer une phrase célèbre p  d'un thème t donné à partir des mots de la phrase p'."
   ]
  },
  {
   "cell_type": "markdown",
   "id": "15a18092",
   "metadata": {},
   "source": [
    "On fait commme precedemment, une fonction pour melanger les mots de la phrase nommée shuffle_words"
   ]
  },
  {
   "cell_type": "code",
   "execution_count": 5,
   "id": "a3b9b558",
   "metadata": {},
   "outputs": [],
   "source": [
    "import random\n",
    "\n",
    "        \n",
    "def shuffle_words(phrase):\n",
    "    array = phrase.split()\n",
    "    if len(array) < 2:\n",
    "        return phrase\n",
    "    while True:\n",
    "        random.shuffle(array)\n",
    "        shuffled = ' '.join(array)\n",
    "        if shuffled != phrase:\n",
    "            return shuffled"
   ]
  },
  {
   "cell_type": "markdown",
   "id": "d895c978",
   "metadata": {},
   "source": [
    "Puis on choisit une phrase et on instaure un petit interface de jeux. Possibilité de rajouter facilement un dictionnaire avec plusieurs phrases et coder une fonction qui choisit une phrase au hasard parmi le dictionnaire de phrases célèbres."
   ]
  },
  {
   "cell_type": "code",
   "execution_count": 6,
   "id": "8f0a7789",
   "metadata": {},
   "outputs": [
    {
     "name": "stdout",
     "output_type": "stream",
     "text": [
      "Bienvenue dans le jeux Phrases Célèbre!\n",
      "\n",
      "La phrase à reconstituer est la suivante : aussi mon fils toi\n",
      "\n",
      "Nombre d'essais restants : 5\n",
      "Votre tentative : ok mon fils\n",
      "\n",
      "Nombre d'essais restants : 4\n",
      "Votre tentative : toi aussi mon fils\n",
      "Correcte !\n",
      "\n",
      "Voulez vous continuez? [o/n]: n\n",
      "--------------------------------------------------\n",
      "\n",
      "Merci pour votre participation!\n"
     ]
    }
   ],
   "source": [
    "word = \"toi aussi mon fils\" #je choisis arbitrairement une phrase au hasard ici\n",
    "\n",
    "\n",
    "print(\"Bienvenue dans le jeux Phrases Célèbre!\")\n",
    "while(True):\n",
    "    question = shuffle_words(word)\n",
    "    \n",
    "    question = question.lower()\n",
    "    word = word.lower()\n",
    "    \n",
    "    print(\"\\nLa phrase à reconstituer est la suivante :\", question)\n",
    " \n",
    "    for i in range(5, 0, -1):\n",
    "        print(\"\\nNombre d'essais restants :\", i)\n",
    "        guess = input('Votre tentative : ').lower()\n",
    "        if guess == word:\n",
    "            print(\"Correcte !\")\n",
    "            break\n",
    "        if i == 1:\n",
    "            print(\"\\nLa bonne réponse était :\", word)\n",
    "    \n",
    "    choice = input(\"\\nVoulez vous continuez? [o/n]: \")\n",
    "    print('-'*50)\n",
    "    if choice == 'n':\n",
    "        print(\"\\nMerci pour votre participation!\")\n",
    "        break\n"
   ]
  },
  {
   "cell_type": "markdown",
   "id": "3df76292",
   "metadata": {},
   "source": [
    "# Jeux : Chasser l'intrus\n",
    "\n",
    "Le but du jeu est d'identifier le mot intrus parmi la liste de mot d'un thème donné."
   ]
  },
  {
   "cell_type": "markdown",
   "id": "8cecbbd4",
   "metadata": {},
   "source": [
    "On commence par definir un theme, encore une fois le theme Columbo puis une liste de mots aleatoires qu'on va venir inserer parmi nos mots thématiques."
   ]
  },
  {
   "cell_type": "code",
   "execution_count": 7,
   "id": "28561de3",
   "metadata": {},
   "outputs": [],
   "source": [
    "import random\n",
    "\n",
    "theme = [\"policier\", \"lieutenant\",\"enquêteur\",\"interrogatoire\",\"assassinat\",\"coupable\",\"imperméable\",\"malin\",\"rapport\",\"intelligent\",\"trahison\",\"crime\"]\n",
    "motsAleatoires = [\"chocolat\",\"bonbon\",\"elephant\",\"chaussettes\",\"magazine\",\"telecommande\",\"buisson\",\"fourchette\"]\n",
    "motintrus = \"\"\n",
    "\n",
    "\n",
    "#fonction pour creer une liste de k=5 mots sur le theme Columbo avec un intrus choisi au hasard\n",
    "def creation_list(theme,intrus):\n",
    "    liste = random.choices(theme,k=5)\n",
    "    motIntrus = random.choice(intrus)\n",
    "    liste.append(motIntrus)\n",
    "    return liste\n",
    "\n",
    "#fonction pour stocker le mot intrus\n",
    "def trouverIntrus(liste):\n",
    "    motIntrus = liste[-1]\n",
    "    return motIntrus\n",
    "\n",
    "\n",
    "#fonction pour melanger la liste\n",
    "def shuffle_list(liste):\n",
    "    question = [\"\"]*len(liste)\n",
    "\n",
    "    l = list(range(len(liste)))\n",
    "    random.shuffle(l)\n",
    "    \n",
    "    i = 0\n",
    "    for mot in liste :\n",
    "        question[i] = liste[l[i]]\n",
    "        i = i+1\n",
    "    return question\n"
   ]
  },
  {
   "cell_type": "markdown",
   "id": "a091f673",
   "metadata": {},
   "source": [
    "Encore une fois on prepare un petit interface de jeu qui affiche la liste de mots avec un intrus et nous laisser tapper notre réponse."
   ]
  },
  {
   "cell_type": "code",
   "execution_count": 8,
   "id": "c5b71028",
   "metadata": {},
   "outputs": [
    {
     "name": "stdout",
     "output_type": "stream",
     "text": [
      "Bienvenue dans le jeux Chasser l'intrus!\n",
      "\n",
      "Liste de mots comportant 1 intrus : ['crime', 'rapport', 'interrogatoire', 'crime', 'trahison', 'buisson']\n",
      "\n",
      "Nombre d'essais restants : 5\n",
      "Votre tentative : crime\n",
      "\n",
      "Nombre d'essais restants : 4\n",
      "Votre tentative : buisson\n",
      "Correcte !\n",
      "\n",
      "Voulez vous continuez? [o/n]: n\n",
      "--------------------------------------------------\n",
      "\n",
      "Merci pour votre participation!\n"
     ]
    }
   ],
   "source": [
    "print(\"Bienvenue dans le jeux Chasser l'intrus!\")\n",
    "while(True):\n",
    "    \n",
    "    liste = creation_list(theme,motsAleatoires)\n",
    "    motIntrus = trouverIntrus(liste)\n",
    "    \n",
    "    question = shuffle_list(liste)\n",
    "\n",
    "    \n",
    "    print(\"\\nListe de mots comportant 1 intrus :\", question)\n",
    " \n",
    "    for i in range(5, 0, -1):\n",
    "        print(\"\\nNombre d'essais restants :\", i)\n",
    "        guess = input('Votre tentative : ').lower()\n",
    "        if guess == motIntrus:\n",
    "            print(\"Correcte !\")\n",
    "            break\n",
    "        if i == 1:\n",
    "            print(\"\\nLa bonne réponse était :\", motIntrus)\n",
    "    \n",
    "    choice = input(\"\\nVoulez vous continuez? [o/n]: \")\n",
    "    print('-'*50)\n",
    "    if choice == 'n':\n",
    "        print(\"\\nMerci pour votre participation!\")\n",
    "        break\n",
    "\n"
   ]
  },
  {
   "cell_type": "code",
   "execution_count": null,
   "id": "eff60e84",
   "metadata": {},
   "outputs": [],
   "source": []
  }
 ],
 "metadata": {
  "kernelspec": {
   "display_name": "Python 3",
   "language": "python",
   "name": "python3"
  },
  "language_info": {
   "codemirror_mode": {
    "name": "ipython",
    "version": 3
   },
   "file_extension": ".py",
   "mimetype": "text/x-python",
   "name": "python",
   "nbconvert_exporter": "python",
   "pygments_lexer": "ipython3",
   "version": "3.8.8"
  }
 },
 "nbformat": 4,
 "nbformat_minor": 5
}
